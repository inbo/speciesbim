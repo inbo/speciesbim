{
 "cells": [
  {
   "cell_type": "markdown",
   "metadata": {
    "pycharm": {
     "name": "#%% md\n"
    }
   },
   "source": [
    "# Demo\n",
    "\n",
    "This Jupyter Notebook demonstrates the changes to the BIM species database and how the taxonomic information can be maintained.\n",
    "\n",
    "## Setup\n",
    "\n",
    "Load functions and packages:"
   ]
  },
  {
   "cell_type": "code",
   "execution_count": null,
   "metadata": {},
   "outputs": [],
   "source": [
    "import os\n",
    "import sys\n",
    "module_path = os.path.abspath(os.path.join('../scripts'))\n",
    "if module_path not in sys.path:\n",
    "    sys.path.append(module_path)"
   ]
  },
  {
   "cell_type": "code",
   "execution_count": null,
   "metadata": {},
   "outputs": [],
   "source": [
    "import sqlalchemy as db\n",
    "import logging\n",
    "import gbif_match\n",
    "import vernacular_names\n",
    "import exotic_status\n",
    "import populate_scientificname_annex\n",
    "from helpers import execute_sql_from_file, get_database_connection, get_config, setup_log_file"
   ]
  },
  {
   "cell_type": "markdown",
   "metadata": {
    "pycharm": {
     "name": "#%% md\n"
    }
   },
   "source": [
    "Define location of log file:"
   ]
  },
  {
   "cell_type": "code",
   "execution_count": null,
   "metadata": {
    "pycharm": {
     "name": "#%%\n"
    }
   },
   "outputs": [],
   "source": [
    "LOG_FILE_PATH = \"./logs/transform_db.log\"\n",
    "setup_log_file(LOG_FILE_PATH)"
   ]
  },
  {
   "cell_type": "markdown",
   "metadata": {
    "pycharm": {
     "name": "#%% md\n"
    }
   },
   "source": [
    "Connect to (a copy of) the BIM database:"
   ]
  },
  {
   "cell_type": "code",
   "execution_count": null,
   "metadata": {
    "pycharm": {
     "name": "#%%\n"
    }
   },
   "outputs": [],
   "source": [
    "conn = get_database_connection()"
   ]
  },
  {
   "cell_type": "markdown",
   "metadata": {},
   "source": [
    "Get access to the configuration details (server address, demo mode, etc.) stored in config file `config.ini`:"
   ]
  },
  {
   "cell_type": "code",
   "execution_count": null,
   "metadata": {
    "pycharm": {
     "name": "#%%\n"
    }
   },
   "outputs": [],
   "source": [
    "config = get_config()"
   ]
  },
  {
   "cell_type": "markdown",
   "metadata": {
    "pycharm": {
     "name": "#%% md\n"
    }
   },
   "source": [
    "Is demo mode active?"
   ]
  },
  {
   "cell_type": "code",
   "execution_count": null,
   "metadata": {
    "pycharm": {
     "name": "#%%\n"
    }
   },
   "outputs": [],
   "source": [
    "demo = config.getboolean('demo_mode', 'demo')\n",
    "demo"
   ]
  },
  {
   "cell_type": "markdown",
   "metadata": {
    "pycharm": {
     "name": "#%% md\n"
    }
   },
   "source": [
    "Define annex file location and its demo version containing a small but significant subset of annex names:"
   ]
  },
  {
   "cell_type": "code",
   "execution_count": null,
   "metadata": {
    "pycharm": {
     "name": "#%%\n"
    }
   },
   "outputs": [],
   "source": [
    "__location__ = os.path.realpath(os.path.join(os.getcwd(), os.path.abspath('')))\n",
    "# Full file with all names in official annexes\n",
    "ANNEX_FILE_PATH = os.path.join(__location__, \"../data/raw/official_annexes.csv\")\n",
    "# Annex demo version\n",
    "ANNEX_FILE_PATH_DEMO = os.path.join(__location__, \"../data/raw/official_annexes_demo.csv\")"
   ]
  },
  {
   "cell_type": "markdown",
   "metadata": {},
   "source": [
    "Define dataset key of the [_Global Register of Introduced and Invasive Species - Belgium_](https://www.gbif.org/dataset/6d9e952f-948c-4483-9807-575348147c7e):"
   ]
  },
  {
   "cell_type": "code",
   "execution_count": null,
   "metadata": {},
   "outputs": [],
   "source": [
    "GRIIS_DATASET_UUID = \"6d9e952f-948c-4483-9807-575348147c7e\""
   ]
  },
  {
   "cell_type": "markdown",
   "metadata": {},
   "source": [
    "Finally, define a SQLAlchemy connection to show changes of the database in this demo:"
   ]
  },
  {
   "cell_type": "code",
   "execution_count": null,
   "metadata": {
    "pycharm": {
     "name": "#%%\n"
    }
   },
   "outputs": [],
   "source": [
    "user = config.get('database', 'user')\n",
    "pwd = config.get('database', 'password')\n",
    "host = config.get('database', 'host')\n",
    "port = config.get('database', 'port')\n",
    "dbname = config.get('database', 'dbname')\n",
    "db_conn = f'postgresql://{user}:{pwd}@{host}:{port}/{dbname}'\n",
    "db.create_engine(db_conn)"
   ]
  },
  {
   "cell_type": "code",
   "execution_count": null,
   "metadata": {
    "pycharm": {
     "name": "#%%\n"
    }
   },
   "outputs": [],
   "source": [
    "%load_ext sql\n",
    "%sql $db_conn"
   ]
  },
  {
   "cell_type": "markdown",
   "metadata": {
    "pycharm": {
     "name": "#%% md\n"
    }
   },
   "source": [
    "## Create the new tables\n",
    "\n",
    "Create the following tables:\n",
    "\n",
    "1. `scientificname`: table with scientific names\n",
    "2. `taxonomy`: taxonomy backbone of all scientific names. Table entirely populated with information from GBIF Backbone\n",
    "3. `scientificnameannex`: all names (scientific names or expressions) contained in official annexes\n",
    "4. `vernacularname`: vernacular names of all taxa in `taxonomy`. Table entirely populated with information from GBIF"
   ]
  },
  {
   "cell_type": "code",
   "execution_count": null,
   "metadata": {
    "pycharm": {
     "name": "#%%\n"
    }
   },
   "outputs": [],
   "source": [
    "message = \"Step 2: create the new tables\"\n",
    "print(message)\n",
    "logging.info(message)\n",
    "execute_sql_from_file(conn, 'create_new_tables.sql')"
   ]
  },
  {
   "cell_type": "markdown",
   "metadata": {},
   "source": [
    "These tables can be dropped and recreated if errors occur in any of the following steps."
   ]
  },
  {
   "cell_type": "markdown",
   "metadata": {
    "pycharm": {
     "name": "#%% md\n"
    }
   },
   "source": [
    "## Populate the `scientificname` table based on the actual content\n",
    "\n",
    "We populate the `scientificname` table with taxa in `taxon`. From `taxon` we select the fields:\n",
    "1. `id`\n",
    "2. `acceptedname`\n",
    "3. `scientificnameauthorship`\n",
    "\n",
    "and we store them as:\n",
    "1. `deprecatedTaxonId`\n",
    "2. `scientificName`\n",
    "3. `authorship`\n",
    "\n",
    "We select only the taxa in use, i.e. taxa which are used in any of the linked tables."
   ]
  },
  {
   "cell_type": "code",
   "execution_count": null,
   "metadata": {
    "pycharm": {
     "name": "#%%\n"
    }
   },
   "outputs": [],
   "source": [
    "message = \"Step 3: populate the scientificname table based on the actual content\"\n",
    "print(message)\n",
    "logging.info(message)\n",
    "execute_sql_from_file(conn, 'populate_scientificname.sql',\n",
    "                      {'limit': config.get('transform_db', 'scientificnames-limit')})"
   ]
  },
  {
   "cell_type": "markdown",
   "metadata": {},
   "source": [
    "Preview `scientificname` table:"
   ]
  },
  {
   "cell_type": "code",
   "execution_count": null,
   "metadata": {},
   "outputs": [],
   "source": [
    "%sql SELECT * FROM biodiv.scientificname LIMIT 10"
   ]
  },
  {
   "cell_type": "markdown",
   "metadata": {},
   "source": [
    "Number of names in `scientificname`table:"
   ]
  },
  {
   "cell_type": "code",
   "execution_count": null,
   "metadata": {},
   "outputs": [],
   "source": [
    "%sql SELECT COUNT(*) from biodiv.scientificname"
   ]
  },
  {
   "cell_type": "markdown",
   "metadata": {
    "pycharm": {
     "name": "#%% md\n"
    }
   },
   "source": [
    "## Populate the `scientificnameannex` table based on official annexes\n",
    "\n",
    "Similarly to previous step, we populate the `scientificnameannex` table with all names (scientific names or expresssions) listed in official annexes. These are stored in an external file: [`official_annexes.csv`](https://github.com/inbo/speciesbim/blob/master/data/raw/official_annexes.csv). Where possible, some type correcting or simplifying taxa was performed.\n",
    "\n",
    "In this demo we use a small but significant subset of these names: [`official_annexes_demo.csv`](https://github.com/inbo/speciesbim/blob/master/data/raw/official_annexes_demo.csv)."
   ]
  },
  {
   "cell_type": "code",
   "execution_count": null,
   "metadata": {
    "pycharm": {
     "name": "#%%\n"
    }
   },
   "outputs": [],
   "source": [
    "message = \"Step 4: populate the scientificnameannex table based on official annexes\"\n",
    "print(message)\n",
    "logging.info(message)\n",
    "if not demo:\n",
    "    populate_scientificname_annex.populate_scientificname_annex(conn, config_parser=config,\n",
    "                                                                annex_file=ANNEX_FILE_PATH)\n",
    "else:\n",
    "    populate_scientificname_annex.populate_scientificname_annex(conn, config_parser=config,\n",
    "                                                                annex_file=ANNEX_FILE_PATH_DEMO)"
   ]
  },
  {
   "cell_type": "markdown",
   "metadata": {},
   "source": [
    "Preview `scientificnameannex` table:"
   ]
  },
  {
   "cell_type": "code",
   "execution_count": null,
   "metadata": {},
   "outputs": [],
   "source": [
    "%sql SELECT * FROM biodiv.scientificnameannex"
   ]
  },
  {
   "cell_type": "markdown",
   "metadata": {
    "pycharm": {
     "name": "#%% md\n"
    }
   },
   "source": [
    "## Populate `taxonomy` table with matches to GBIF Backbone and corresponding backbone tree\n",
    "\n",
    "In this step all scientific names in `scientificname` table are evaluated against the [_GBIF Backbone Taxonomy_](https://www.gbif.org/dataset/d7dddbf4-2cf0-4f39-9b2a-bb099caae36c) or simply _GBIF Backbone_.\n",
    "If a match occurs, the taxon and its related tree is added to `taxonomy`. In case of a synonym, the corresponding accepted taxon is added as well.\n",
    "\n",
    "In this demo, we will focus on a small subset of names:\n",
    "- _Mellitiosporium pteridium_: no match to GBIF Backbone will be found\n",
    "- _Rana ridibunda_: synonym of _Pelophylax ridibundus_\n",
    "- _Fallopia japonica_: exotic and synonym of _Reynoutria japonica_\n",
    "- _Sonchus_: accepted genus"
   ]
  },
  {
   "cell_type": "code",
   "execution_count": null,
   "metadata": {
    "pycharm": {
     "name": "#%%\n"
    }
   },
   "outputs": [],
   "source": [
    "message = \"Step 5: populate taxonomy table with matches to GBIF Backbone and related backbone tree \" +\\\n",
    "          \"and update scientificname table\"\n",
    "print(message)\n",
    "logging.info(message)\n",
    "gbif_match.gbif_match(conn, config_parser=config, unmatched_only=False)"
   ]
  },
  {
   "cell_type": "code",
   "execution_count": null,
   "metadata": {},
   "outputs": [],
   "source": [
    "%sql SELECT * FROM biodiv.taxonomy"
   ]
  },
  {
   "cell_type": "markdown",
   "metadata": {},
   "source": [
    "When there is a match, the `taxonomyId` is populated in `scientificname` to make a connection between the two tables."
   ]
  },
  {
   "cell_type": "code",
   "execution_count": null,
   "metadata": {},
   "outputs": [],
   "source": [
    "%%sql \n",
    "SELECT * FROM biodiv.scientificname \n",
    "WHERE \"scientificName\" IN (\n",
    "    'Mellitiosporium pteridium', -- no matchc to GBIF Backbone\n",
    "    'Rana ridibunda', -- Synonym of Pelophylax ridibundus\n",
    "    'Fallopia japonica', -- Exotic and synonym of Reynoutria japonica\n",
    "    'Sonchus' -- accepted genus\n",
    ")"
   ]
  },
  {
   "cell_type": "markdown",
   "metadata": {},
   "source": [
    "Everytime existing names are improved or added, this step can be repeated using the parameter `unmatched_only=True` in `gbif_match()`. However, we suggest to update the entire table (`unmatched_only=False`) at least every year in order to update the table with taxonomic changes from the GBIF Backbone.\n",
    "\n",
    "This step populates also the table `rank`:"
   ]
  },
  {
   "cell_type": "code",
   "execution_count": null,
   "metadata": {},
   "outputs": [],
   "source": [
    "%sql SELECT * FROM biodiv.rank"
   ]
  },
  {
   "cell_type": "markdown",
   "metadata": {
    "pycharm": {
     "name": "#%% md\n"
    }
   },
   "source": [
    "## Vernacular names\n",
    "\n",
    "In this step we lookup all vernacular names recorded at GBIF for all taxa in `taxonomy`. This is done for the languages French, Dutch and English and stored in the table `vernacularnames`."
   ]
  },
  {
   "cell_type": "code",
   "execution_count": null,
   "metadata": {
    "pycharm": {
     "name": "#%%\n"
    }
   },
   "outputs": [],
   "source": [
    "message = \"Step 6: populate vernacular names from GBIF for each entry in the taxonomy table\"\n",
    "print(message)\n",
    "logging.info(message)\n",
    "# list of 2-letters language codes (ISO 639-1)\n",
    "languages = ['fr', 'nl', 'en']\n",
    "vernacular_names.populate_vernacular_names(conn, config_parser=config, empty_only=False, filter_lang=languages)"
   ]
  },
  {
   "cell_type": "markdown",
   "metadata": {},
   "source": [
    "Show table `vernacularnames`:"
   ]
  },
  {
   "cell_type": "code",
   "execution_count": null,
   "metadata": {},
   "outputs": [],
   "source": [
    "%sql SELECT * FROM biodiv.vernacularname"
   ]
  },
  {
   "cell_type": "markdown",
   "metadata": {},
   "source": [
    "As for the previous step, we recommend to update this table using the `empty_only=True` parameter in `populate_vernacular_names()` every time new names are added or improved. "
   ]
  },
  {
   "cell_type": "markdown",
   "metadata": {
    "pycharm": {
     "name": "#%% md\n"
    }
   },
   "source": [
    "## Add exotic status of taxa in `taxonomy`\n",
    "\n",
    "The exotic status (`True` or `False`) for all taxa in `taxonomy` is filled by consulting the GBIF checklist\n",
    "[_Global Register of Introduced and Invasive Species - Belgium_](https://www.gbif.org/dataset/6d9e952f-948c-4483-9807-575348147c7e):"
   ]
  },
  {
   "cell_type": "code",
   "execution_count": null,
   "metadata": {
    "pycharm": {
     "name": "#%%\n"
    }
   },
   "outputs": [],
   "source": [
    "message = \"Step 7: populate field exotic_be (values: True of False) from GRIIS checklist for each entry in \" \\\n",
    "          \"taxonomy table \"\n",
    "print(message)\n",
    "logging.info(message)\n",
    "exotic_status.populate_is_exotic_be_field(conn, config_parser=config, exotic_status_source=GRIIS_DATASET_UUID)\n"
   ]
  },
  {
   "cell_type": "markdown",
   "metadata": {},
   "source": [
    "Exotic taxa:"
   ]
  },
  {
   "cell_type": "code",
   "execution_count": null,
   "metadata": {},
   "outputs": [],
   "source": [
    "%sql SELECT * FROM biodiv.taxonomy WHERE exotic_be IS TRUE"
   ]
  },
  {
   "cell_type": "markdown",
   "metadata": {},
   "source": [
    "This step should be repeated everytime the `taxonomy` table changes. "
   ]
  }
 ],
 "metadata": {
  "kernelspec": {
   "display_name": "Python 3",
   "language": "python",
   "name": "python3"
  },
  "language_info": {
   "codemirror_mode": {
    "name": "ipython",
    "version": 3
   },
   "file_extension": ".py",
   "mimetype": "text/x-python",
   "name": "python",
   "nbconvert_exporter": "python",
   "pygments_lexer": "ipython3",
   "version": "3.8.3"
  }
 },
 "nbformat": 4,
 "nbformat_minor": 4
}
